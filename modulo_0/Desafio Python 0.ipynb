{
 "cells": [
  {
   "cell_type": "code",
   "execution_count": null,
   "metadata": {},
   "outputs": [],
   "source": [
    "num1 = int(input('Digite o 1º número:'))\n",
    "num2 = int(input('Digite o 2º número:'))\n",
    "num3 = int(input('Digite o 3º número:'))\n",
    "\n",
    "soma = num1 + num2 + num3\n",
    "\n",
    "print(\"Entrada:\", {num1}, {num2}, {num3})\n",
    "print(\"Processamento: \", {num1}, \"+\", {num2}, \"+\", {num3})\n",
    "print(\"Saída:\", {soma})"
   ]
  },
  {
   "cell_type": "code",
   "execution_count": null,
   "metadata": {},
   "outputs": [],
   "source": []
  }
 ],
 "metadata": {
  "kernelspec": {
   "display_name": "Python 3",
   "language": "python",
   "name": "python3"
  },
  "language_info": {
   "codemirror_mode": {
    "name": "ipython",
    "version": 3
   },
   "file_extension": ".py",
   "mimetype": "text/x-python",
   "name": "python",
   "nbconvert_exporter": "python",
   "pygments_lexer": "ipython3",
   "version": "3.7.6"
  }
 },
 "nbformat": 4,
 "nbformat_minor": 4
}
