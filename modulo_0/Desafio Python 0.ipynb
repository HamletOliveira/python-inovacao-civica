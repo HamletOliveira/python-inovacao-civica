{
 "cells": [
  {
   "cell_type": "code",
   "execution_count": 7,
   "metadata": {},
   "outputs": [
    {
     "name": "stdout",
     "output_type": "stream",
     "text": [
      "Digite o 1º número:2\n",
      "Digite o 2º número:1\n",
      "Digite o 3º número:1\n",
      "Entrada: 2, 1, 1\n",
      "Processamento: 2 + 1 + 1\n",
      "Saída: 4\n"
     ]
    }
   ],
   "source": [
    "num1 = int(input('Digite o 1º número:'))\n",
    "num2 = int(input('Digite o 2º número:'))\n",
    "num3 = int(input('Digite o 3º número:'))\n",
    "\n",
    "soma = num1 + num2 + num3\n",
    "\n",
    "print(f\"Entrada: {num1}, {num2}, {num3}\")\n",
    "print(f\"Processamento: {num1} + {num2} + {num3}\")\n",
    "print(f\"Saída: {soma}\")"
   ]
  },
  {
   "cell_type": "markdown",
   "metadata": {},
   "source": []
  }
 ],
 "metadata": {
  "kernelspec": {
   "display_name": "Python 3",
   "language": "python",
   "name": "python3"
  },
  "language_info": {
   "codemirror_mode": {
    "name": "ipython",
    "version": 3
   },
   "file_extension": ".py",
   "mimetype": "text/x-python",
   "name": "python",
   "nbconvert_exporter": "python",
   "pygments_lexer": "ipython3",
   "version": "3.7.6"
  }
 },
 "nbformat": 4,
 "nbformat_minor": 4
}
